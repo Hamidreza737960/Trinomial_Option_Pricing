{
 "cells": [
  {
   "cell_type": "markdown",
   "metadata": {},
   "source": [
 
   ]
  },
  {
   "cell_type": "markdown",
   "metadata": {},
   "source": [
   ]
  },
  {
   "cell_type": "markdown",
   "metadata": {},
   "source": [
    "# P1: Trinomial Tree\n",
    "In the lecture we mentioned that a binomial model can be generalized to a trinomial model. In a trinomial model we need to consider three stock price developments: in one period the price increases by a factor of $u$ with the probability $p_u$, descreases by a factor of $d$ with the probability $p_d$, or remains unchanged with the probability $1−p_u −p_d$. The trinomial model can be built in a similar way to the binomial model, e.g., by matching the expectation and the variance and using $ud = 1$ we obtain:\n",
    "    $$ u = e^{\\sigma\\sqrt{2\\Delta t}}, \\quad d = e^{-\\sigma\\sqrt{2\\Delta t}}, \\quad p_d = \\left( \\frac{ e^{\\sigma\\sqrt{\\frac{\\Delta t}{2}}} - e^{r\\frac{\\Delta t}{2}} }{e^{\\sigma\\sqrt{\\frac{\\Delta t}{2}}} - e^{-\\sigma\\sqrt{\\frac{\\Delta t}{2}}}} \\right)^2, \\quad \\quad p_u = \\left( \\frac{ e^{r\\frac{\\Delta t}{2}} - e^{-\\sigma\\sqrt{\\frac{\\Delta t}{2}}}}{e^{\\sigma\\sqrt{\\frac{\\Delta t}{2}}} - e^{-\\sigma\\sqrt{\\frac{\\Delta t}{2}}}} \\right)^2.$$\n",
    "\n",
    "For the programming task write the corresponding Python functions that are asked in each section below."
   ]
  },
  {
   "cell_type": "markdown",
   "metadata": {},
   "source": [
    "**Return the solutions of the programming task until Friday, May 16. The assignment can be done in groups of 1-2 persons. For the presentation of your solution, please register via the moodle lab course.**"
   ]
  },
  {
   "cell_type": "markdown",
   "metadata": {},
   "source": [
    "## Write your data"
   ]
  },
  {
   "cell_type": "code",
   "execution_count": 1,
   "metadata": {},
   "outputs": [
    {
     "name": "stdout",
     "output_type": "stream",
     "text": [
      "First Name: Hamidreza\n",
      "Sure Name: Lolaei\n",
      "Matriculation number: 2225940\n",
      "E-mail: hamidreza.lolaei@uni-wuppertal.de\n"
     ]
    }
   ],
   "source": [
    "print(\"First Name: Hamidreza\")\n",
    "print(\"Sure Name: Lolaei\")\n",
    "print(\"Matriculation number: 2225940\")\n",
    "print(\"E-mail: hamidreza.lolaei@uni-wuppertal.de\")"
   ]
  },
  {
   "cell_type": "markdown",
   "metadata": {},
   "source": [
    "## Import all necessary modules"
   ]
  },
  {
   "cell_type": "code",
   "execution_count": 2,
   "metadata": {},
   "outputs": [],
   "source": [
    "import math\n",
    "import numpy as np\n",
    "from tabulate import tabulate\n",
    "np.set_printoptions(linewidth=600)"
   ]
  },
  {
   "cell_type": "markdown",
   "metadata": {},
   "source": [
    "## Test Parameters"
   ]
  },
  {
   "cell_type": "code",
   "execution_count": 3,
   "metadata": {},
   "outputs": [],
   "source": [
    "# Input parameters\n",
    "sigma = 0.2\n",
    "K = 100\n",
    "S0 = 100\n",
    "N = 4\n",
    "r = 0.05\n",
    "T = 1\n",
    "d_t = T / N"
   ]
  },
  {
   "cell_type": "markdown",
   "metadata": {},
   "source": [
    "# Start coding\n",
    "**Note:** \n",
    "* Add code where you find the comment \"# Add code here\"\n",
    "* Get the same output as it is presented in the Markdown text **Expected Output:**"
   ]
  },
  {
   "cell_type": "markdown",
   "metadata": {},
   "source": [
    "## Define a function to calculate the up and down factors"
   ]
  },
  {
   "cell_type": "code",
   "execution_count": 4,
   "metadata": {},
   "outputs": [],
   "source": [
    "def calc_ud(sigma, d_t):\n",
    "    \"\"\"\n",
    "    Function that calculates the factors in the trinomial model\n",
    "\n",
    "    Input: sigma -> volatility \n",
    "            d_t  -> time step size\n",
    "\n",
    "    Output: u -> upward movement\n",
    "            d -> downward movement\n",
    "\n",
    "    \"\"\"\n",
    "    # Add code here\n",
    "    u = math.exp(sigma*math.sqrt(2*d_t))\n",
    "    d = math.exp(-sigma*math.sqrt(2*d_t))\n",
    "\n",
    "    return u , d"
   ]
  },
  {
   "cell_type": "code",
   "execution_count": 5,
   "metadata": {},
   "outputs": [
    {
     "name": "stdout",
     "output_type": "stream",
     "text": [
      "1.15191\n",
      "0.868123\n"
     ]
    }
   ],
   "source": [
    "# Calculate upward and downward movements\n",
    "# Add code here\n",
    "u , d = calc_ud(sigma , d_t)\n",
    "u = np.round(u , decimals = 6)\n",
    "d = np.round(d , decimals = 6)\n",
    "print(u)\n",
    "print(d)"
   ]
  },
  {
   "cell_type": "markdown",
   "metadata": {},
   "source": [
    "**Expected Output:**\n",
    "`u = 1.151910, d = 0.868123`"
   ]
  },
  {
   "cell_type": "markdown",
   "metadata": {},
   "source": [
    "## Define a function to calculate the probabilities in the trinomial model"
   ]
  },
  {
   "cell_type": "code",
   "execution_count": 6,
   "metadata": {},
   "outputs": [],
   "source": [
    "def calc_prob(r, sigma, d_t):\n",
    "    \"\"\"\n",
    "    Function that calculates the probabilities in the trinomial model\n",
    "\n",
    "    Input: r     -> interest rate\n",
    "           sigma -> volatility\n",
    "           d_t   -> time step size\n",
    "\n",
    "    Output: p_u -> probability for upward movement\n",
    "            p_d -> probability for downward movement\n",
    "            p_m -> probability for no change\n",
    "\n",
    "    \"\"\"\n",
    "    s1 = math.exp(sigma*math.sqrt(d_t/2))\n",
    "    s2 = math.exp(-sigma*math.sqrt(d_t/2))\n",
    "    s3 = math.exp(r*d_t/2)\n",
    "    \n",
    "    p_d = ((s1 - s3)/(s1 - s2))**2\n",
    "    p_u = ((s3 - s2)/(s1 - s2))**2\n",
    "    p_m = 1 - p_u - p_d\n",
    "\n",
    "    return p_u , p_d , p_m\n",
    "    \n",
    "    "
   ]
  },
  {
   "cell_type": "code",
   "execution_count": 7,
   "metadata": {},
   "outputs": [
    {
     "name": "stdout",
     "output_type": "stream",
     "text": [
      "p_u =  0.277334\n",
      "p_d =  0.224084\n",
      "p_m =  0.498582\n"
     ]
    }
   ],
   "source": [
    "# Calculate probabilities\n",
    "# Add code here\n",
    "p_u , p_d , p_m = calc_prob(r , sigma , d_t)\n",
    "p_u = np.round(p_u , decimals = 6)\n",
    "p_d = np.round(p_d , decimals = 6)\n",
    "p_m = np.round(p_m , decimals = 6)\n",
    "print('p_u = ' ,p_u)\n",
    "print('p_d = ' ,p_d)\n",
    "print('p_m = ' ,p_m)"
   ]
  },
  {
   "cell_type": "markdown",
   "metadata": {},
   "source": [
    "**Expected Output:**\n",
    "`p_u = 0.277334, p_d = 0.224084, p_m = 0.498582`"
   ]
  },
  {
   "cell_type": "markdown",
   "metadata": {},
   "source": [
    "## Define a function to calculate the stock prices in the trinomial model"
   ]
  },
  {
   "cell_type": "code",
   "execution_count": 8,
   "metadata": {},
   "outputs": [],
   "source": [
    "def stock_price_trinom(S0, N, u, d):\n",
    "    \n",
    "    \"\"\"\n",
    "    Function that calculates the stock prices in the trinomial model\n",
    "    \n",
    "    Input: S0 -> Initial Stock Price\n",
    "           u  -> upward movement\n",
    "           d  -> downward movement\n",
    "           N  -> Number of time periods\n",
    "       \n",
    "    Output: S -> Upper triangular matrix of Stock prices with tirnomial model\n",
    "    \"\"\"\n",
    "    arr = np.zeros((2*N+1,N+1))\n",
    "    for col in range(N + 1):\n",
    "        for i in range(2*col + 1):\n",
    "            j = max(0 , i - col)\n",
    "            k = max(col - i, 0)\n",
    "            arr[i   , col] = S0*(u**(k))*(d**(j))\n",
    "    return arr    \n"
   ]
  },
  {
   "cell_type": "code",
   "execution_count": 9,
   "metadata": {
    "scrolled": true
   },
   "outputs": [
    {
     "name": "stdout",
     "output_type": "stream",
     "text": [
      "[[100.         115.191      132.68966481 152.84655179 176.06547147]\n",
      " [  0.         100.         115.191      132.68966481 152.84655179]\n",
      " [  0.          86.8123     100.         115.191      132.68966481]\n",
      " [  0.           0.          86.8123     100.         115.191     ]\n",
      " [  0.           0.          75.36375431  86.8123     100.        ]\n",
      " [  0.           0.           0.          75.36375431  86.8123    ]\n",
      " [  0.           0.           0.          65.42500849  75.36375431]\n",
      " [  0.           0.           0.           0.          65.42500849]\n",
      " [  0.           0.           0.           0.          56.79695464]]\n"
     ]
    }
   ],
   "source": [
    "# Calculate stock prices\n",
    "# Add code here\n",
    "S = stock_price_trinom(S0, N, u, d)\n",
    "print(S)"
   ]
  },
  {
   "cell_type": "markdown",
   "metadata": {},
   "source": [
    "**Expected Output:**\n",
    "\n",
    "`Stock Prices`\n",
    "\n",
    "`[[100.         115.19099102 132.68964411 152.84651603 176.06541655]\n",
    " [  0.         100.         115.19099102 132.68964411 152.84651603]\n",
    " [  0.          86.81234454 100.         115.19099102 132.68964411]\n",
    " [  0.           0.          86.81234454 100.         115.19099102]\n",
    " [  0.           0.          75.36383164  86.81234454 100.        ]\n",
    " [  0.           0.           0.          75.36383164  86.81234454]\n",
    " [  0.           0.           0.          65.42510919  75.36383164]\n",
    " [  0.           0.           0.           0.          65.42510919]\n",
    " [  0.           0.           0.           0.          56.7970712 ]]`"
   ]
  },
  {
   "cell_type": "markdown",
   "metadata": {},
   "source": [
    "## Define a function to calculate the European option price using trinomial model"
   ]
  },
  {
   "cell_type": "code",
   "execution_count": 10,
   "metadata": {},
   "outputs": [],
   "source": [
    "def priceTriEuro(N, K, r, S, p_u, p_d, p_m, d_t):\n",
    "    \"\"\"\n",
    "    Function that calculates the European option price using trinomial model\n",
    "    \n",
    "    Input: N     -> Number of time periods\n",
    "           K     -> Strike price\n",
    "           r     -> Interst rate\n",
    "           S     -> Upper triangular matrix\n",
    "           p_u   -> probability for upward movement\n",
    "           p_d   -> probability for downward movement\n",
    "           p_m   -> probability for no change\n",
    "           d_t   -> time step size\n",
    "       \n",
    "    Output: C -> European Call option \n",
    "            P -> European Put option \n",
    "\n",
    "    \"\"\"\n",
    "    # Add code here\n",
    "    # European call option matrix\n",
    "    C = np.zeros((2*N+1 , N+1))\n",
    "    P = np.zeros((2*N+1 , N+1))\n",
    "    C[: , N] = np.maximum(S[: , N] - K , 0) # payoff functions in the last step\n",
    "    P[: , N] = np.maximum(K - S[: , N] , 0) # payoff functions in the last step\n",
    "    for i in range(N - 1  , -1, -1):\n",
    "        for j in range(2*i + 1):\n",
    "            C[j , i] = math.exp(-r*d_t)*(p_u*C[j , i + 1] + p_m*C[j + 1 , i+1] + p_d*C[j+2 , i+ 1])\n",
    "            P[j , i] = math.exp(-r*d_t)*(p_u*P[j , i+ 1] + p_m*P[j + 1 , i+ 1] + p_d*P[j+2 , i+ 1])\n",
    "    return C , P , C[0 , 0] , P[0 , 0]\n",
    "\n",
    "         "
   ]
  },
  {
   "cell_type": "code",
   "execution_count": 11,
   "metadata": {},
   "outputs": [
    {
     "name": "stdout",
     "output_type": "stream",
     "text": [
      "C = \n",
      " [[10.20508408 20.09256307 35.15865143 54.08875897 76.06547147]\n",
      " [ 0.          8.49086296 18.30584026 33.93187367 52.84655179]\n",
      " [ 0.          2.35494685  6.54952838 16.43321032 32.68966481]\n",
      " [ 0.          0.          1.13955485  4.16064631 15.191     ]\n",
      " [ 0.          0.          0.          0.          0.        ]\n",
      " [ 0.          0.          0.          0.          0.        ]\n",
      " [ 0.          0.          0.          0.          0.        ]\n",
      " [ 0.          0.          0.          0.          0.        ]\n",
      " [ 0.          0.          0.          0.          0.        ]]\n",
      "\n",
      "\n",
      "P = \n",
      "\n",
      " [[ 5.32807446  1.22103717  0.          0.          0.        ]\n",
      " [ 0.          4.81034308  0.64585257  0.          0.        ]\n",
      " [ 0.         11.86210434  4.08054774  0.          0.        ]\n",
      " [ 0.          0.         11.858255    2.91844307  0.        ]\n",
      " [ 0.          0.         22.1672414  11.94548265  0.        ]\n",
      " [ 0.          0.          0.         23.39402799 13.1877    ]\n",
      " [ 0.          0.          0.         33.33277352 24.63624569]\n",
      " [ 0.          0.          0.          0.         34.57499151]\n",
      " [ 0.          0.          0.          0.         43.20304536]]\n"
     ]
    }
   ],
   "source": [
    "# Calculate European call and put values\n",
    "# Add code here\n",
    "C , P, _ , _ = priceTriEuro(N, K, r, S, p_u, p_d, p_m, d_t)\n",
    "print('C = \\n' , C) \n",
    "print('\\n\\nP = \\n\\n', P)"
   ]
  },
  {
   "cell_type": "markdown",
   "metadata": {},
   "source": [
    "**Expected Output:**\n",
    "\n",
    "`European Call`\n",
    "\n",
    "`[[10.20509942 20.0925775  35.15865291 54.08873598 76.06541655]\n",
    " [ 0.          8.49087322 18.30584772 33.93186407 52.84651603]\n",
    " [ 0.          2.35495086  6.54953395 16.43321097 32.68964411]\n",
    " [ 0.          0.          1.13955621  4.16064756 15.19099102]\n",
    " [ 0.          0.          0.          0.          0.        ]\n",
    " [ 0.          0.          0.          0.          0.        ]\n",
    " [ 0.          0.          0.          0.          0.        ]\n",
    " [ 0.          0.          0.          0.          0.        ]\n",
    " [ 0.          0.          0.          0.          0.        ]]`\n",
    "\n",
    "`European Put`\n",
    "\n",
    "`[[ 5.32804187  1.22102826  0.          0.          0.        ]\n",
    " [ 0.          4.810315    0.64584791  0.          0.        ]\n",
    " [ 0.         11.86204809  4.08052515  0.          0.        ]\n",
    " [ 0.          0.         11.85820287  2.91842761  0.        ]\n",
    " [ 0.          0.         22.16715956 11.94543551  0.        ]\n",
    " [ 0.          0.          0.         23.39394841 13.18765546]\n",
    " [ 0.          0.          0.         33.33267086 24.63616836]\n",
    " [ 0.          0.          0.          0.         34.57489081]\n",
    " [ 0.          0.          0.          0.         43.2029288 ]]`"
   ]
  },
  {
   "cell_type": "markdown",
   "metadata": {},
   "source": [
    "## Define a function to calculate the American option price using trinomial model"
   ]
  },
  {
   "cell_type": "code",
   "execution_count": 12,
   "metadata": {},
   "outputs": [],
   "source": [
    "def priceTriAmer(N, K, r, S, p_u, p_d, p_m, d_t):\n",
    "    \"\"\"\n",
    "    Function that calculates the American option price using trinomial model\n",
    "    \n",
    "    Input: N     -> Number of time periods\n",
    "           K     -> Strike price\n",
    "           r     -> Interst rate\n",
    "           S     -> Upper triangular matrix\n",
    "           p_u   -> probability for upward movement\n",
    "           p_d   -> probability for downward movement\n",
    "           p_m   -> probability for no change\n",
    "           d_t   -> time step size\n",
    "       \n",
    "    Output: C -> American Call option \n",
    "            P -> American Put option \n",
    "\n",
    "    \"\"\"\n",
    "    C = np.zeros((2*N+1 , N+1))\n",
    "    P = np.zeros((2*N+1 , N+1))\n",
    "    C[: , N] = np.maximum(S[: , N] - K , 0)\n",
    "    P[: , N] = np.maximum(K - S[: , N] , 0)\n",
    "    for i in range(N - 1  , -1, -1):\n",
    "        for j in range(2*i + 1):\n",
    "            C_temp = math.exp(-r*d_t)*(p_u*C[j , i + 1] + p_m*C[j + 1 , i+1] + p_d*C[j+2 , i+ 1])\n",
    "            C[j , i] = np.maximum(S[j , i] - K , C_temp)\n",
    "            P_temp = math.exp(-r*d_t)*(p_u*P[j , i+ 1] + p_m*P[j + 1 , i+ 1] + p_d*P[j+2 , i+ 1])\n",
    "            P[j , i] = np.maximum(K  - S[j , i], P_temp)\n",
    "    return C , P , C[0 , 0] , P[0 , 0]"
   ]
  },
  {
   "cell_type": "code",
   "execution_count": 13,
   "metadata": {},
   "outputs": [
    {
     "name": "stdout",
     "output_type": "stream",
     "text": [
      "CA = \n",
      " [[10.20508408 20.09256307 35.15865143 54.08875897 76.06547147]\n",
      " [ 0.          8.49086296 18.30584026 33.93187367 52.84655179]\n",
      " [ 0.          2.35494685  6.54952838 16.43321032 32.68966481]\n",
      " [ 0.          0.          1.13955485  4.16064631 15.191     ]\n",
      " [ 0.          0.          0.          0.          0.        ]\n",
      " [ 0.          0.          0.          0.          0.        ]\n",
      " [ 0.          0.          0.          0.          0.        ]\n",
      " [ 0.          0.          0.          0.          0.        ]\n",
      " [ 0.          0.          0.          0.          0.        ]]\n",
      "\n",
      "\n",
      "PA = \n",
      "\n",
      " [[ 5.84960493  1.28187335  0.          0.          0.        ]\n",
      " [ 0.          5.23990894  0.64585257  0.          0.        ]\n",
      " [ 0.         13.1877      4.35545092  0.          0.        ]\n",
      " [ 0.          0.         13.1877      2.91844307  0.        ]\n",
      " [ 0.          0.         24.63624569 13.1877      0.        ]\n",
      " [ 0.          0.          0.         24.63624569 13.1877    ]\n",
      " [ 0.          0.          0.         34.57499151 24.63624569]\n",
      " [ 0.          0.          0.          0.         34.57499151]\n",
      " [ 0.          0.          0.          0.         43.20304536]]\n"
     ]
    }
   ],
   "source": [
    "# Calculate American call and put values\n",
    "# Add code here\n",
    "CA , PA , _ , _ = priceTriAmer(N, K, r, S, p_u, p_d, p_m, d_t)\n",
    "print('CA = \\n' , CA) \n",
    "print('\\n\\nPA = \\n\\n', PA)"
   ]
  },
  {
   "cell_type": "markdown",
   "metadata": {},
   "source": [
    "**Expected Output:**\n",
    "\n",
    "`American Call`\n",
    "\n",
    "`[[10.20509942 20.0925775  35.15865291 54.08873598 76.06541655]\n",
    " [ 0.          8.49087322 18.30584772 33.93186407 52.84651603]\n",
    " [ 0.          2.35495086  6.54953395 16.43321097 32.68964411]\n",
    " [ 0.          0.          1.13955621  4.16064756 15.19099102]\n",
    " [ 0.          0.          0.          0.          0.        ]\n",
    " [ 0.          0.          0.          0.          0.        ]\n",
    " [ 0.          0.          0.          0.          0.        ]\n",
    " [ 0.          0.          0.          0.          0.        ]\n",
    " [ 0.          0.          0.          0.          0.        ]]`\n",
    "\n",
    "`American Put`\n",
    "\n",
    "`[[ 5.84957502  1.28186433  0.          0.          0.        ]\n",
    " [ 0.          5.23988204  0.64584791  0.          0.        ]\n",
    " [ 0.         13.18765546  4.35542837  0.          0.        ]\n",
    " [ 0.          0.         13.18765546  2.91842761  0.        ]\n",
    " [ 0.          0.         24.63616836 13.18765546  0.        ]\n",
    " [ 0.          0.          0.         24.63616836 13.18765546]\n",
    " [ 0.          0.          0.         34.57489081 24.63616836]\n",
    " [ 0.          0.          0.          0.         34.57489081]\n",
    " [ 0.          0.          0.          0.         43.2029288 ]]`"
   ]
  },
  {
   "cell_type": "markdown",
   "metadata": {},
   "source": [
    "## Comparing European and American option values calculated with Trinomial Model from the exact Solution"
   ]
  },
  {
   "cell_type": "code",
   "execution_count": 14,
   "metadata": {},
   "outputs": [
    {
     "name": "stdout",
     "output_type": "stream",
     "text": [
      "   N    E_P_ex    E_P_app      err_E_P    A_P_ex    A_P_app    err_A_P\n",
      "----  --------  ---------  -----------  --------  ---------  ---------\n",
      "   4    5.5735    5.32804  0.245458       6.0624    5.84958  0.212825\n",
      "  16    5.5735    5.51129  0.0622119      6.0624    6.03113  0.0312749\n",
      "  64    5.5735    5.55792  0.0155814      6.0624    6.07702  0.0146224\n",
      " 256    5.5735    5.56962  0.00387872     6.0624    6.08734  0.0249399\n",
      " 512    5.5735    5.57157  0.00192659     6.0624    6.08891  0.0265064\n",
      "1024    5.5735    5.57255  0.000950343    6.0624    6.08965  0.0272517\n"
     ]
    }
   ],
   "source": [
    "# Calculate European and American put values for different N and compare to exact solution\n",
    "# Exact Values\n",
    "E_P_ex = 5.5735\n",
    "A_P_ex = 6.0624\n",
    "N1 = [4, 16, 64, 256, 512, 1024]\n",
    "# Add code here\n",
    "data = np.zeros((6 , 7))\n",
    "ii = 0\n",
    "for n in N1:\n",
    "    d_t_new = T/n\n",
    "    u_new , d_new = calc_ud(sigma, d_t_new)\n",
    "    p_un, p_dn , p_mn = calc_prob(r, sigma, d_t_new)\n",
    "    S1 = stock_price_trinom(S0, n, u_new, d_new)\n",
    "    _ , _ , _ , E_P_app = priceTriEuro(n, K, r, S1, p_un, p_dn, p_mn, d_t_new)\n",
    "    _, _ , _ , A_P_app = priceTriAmer(n, K, r, S1, p_un, p_dn, p_mn, d_t_new)\n",
    "    err_E_P = abs(E_P_app - E_P_ex)\n",
    "    err_A_P = abs(A_P_app - A_P_ex)\n",
    "    data[ ii , :] = [int(n) , E_P_ex , E_P_app , err_E_P , A_P_ex , A_P_app , err_A_P]\n",
    "    ii +=1\n",
    "\n",
    "headers = headers = [\"N\", \"E_P_ex\", \"E_P_app\", \"err_E_P\" , \"A_P_ex\" , \"A_P_app\", \"err_A_P\"]\n",
    "print(tabulate(data, headers=headers))"
   ]
  },
  {
   "cell_type": "markdown",
   "metadata": {},
   "source": [
    "**Expected Output:**\n",
    "![title](trinom_tree.png)"
   ]
  },
  {
   "cell_type": "code",
   "execution_count": 15,
   "metadata": {},
   "outputs": [],
   "source": [
    "# feel free to use this cell for additional tests"
   ]
  },
  {
   "cell_type": "code",
   "execution_count": 16,
   "metadata": {},
   "outputs": [],
   "source": [
    "# feel free to use this cell for additional tests"
   ]
  }
 ],
 "metadata": {
  "kernelspec": {
   "display_name": "Python 3 (ipykernel)",
   "language": "python",
   "name": "python3"
  },
  "language_info": {
   "codemirror_mode": {
    "name": "ipython",
    "version": 3
   },
   "file_extension": ".py",
   "mimetype": "text/x-python",
   "name": "python",
   "nbconvert_exporter": "python",
   "pygments_lexer": "ipython3",
   "version": "3.13.1"
  }
 },
 "nbformat": 4,
 "nbformat_minor": 4
}
